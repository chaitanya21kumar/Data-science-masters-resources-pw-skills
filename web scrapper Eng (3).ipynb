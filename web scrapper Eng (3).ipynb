{
 "cells": [
  {
   "cell_type": "code",
   "execution_count": 1,
   "id": "811e8eff-3091-44fb-920f-7372cdc9333c",
   "metadata": {},
   "outputs": [],
   "source": [
    "import requests\n",
    "from bs4 import BeautifulSoup as bs\n",
    "from urllib.request import urlopen\n",
    "import logging"
   ]
  },
  {
   "cell_type": "code",
   "execution_count": 4,
   "id": "4238e01e-a479-4081-8cde-e1d71304671b",
   "metadata": {},
   "outputs": [],
   "source": [
    "flipcart_url = \"https://www.flipkart.com/search?q=\" + \"tv\""
   ]
  },
  {
   "cell_type": "code",
   "execution_count": 5,
   "id": "453b19d4-d454-483b-8e0b-cfd4ba2262c2",
   "metadata": {},
   "outputs": [
    {
     "data": {
      "text/plain": [
       "'https://www.flipkart.com/search?q=tv'"
      ]
     },
     "execution_count": 5,
     "metadata": {},
     "output_type": "execute_result"
    }
   ],
   "source": [
    "flipcart_url"
   ]
  },
  {
   "cell_type": "code",
   "execution_count": 11,
   "id": "cdeed42d-3b6d-47b1-980b-59ee8d715e05",
   "metadata": {},
   "outputs": [],
   "source": [
    "urlclient = urlopen(flipcart_url)"
   ]
  },
  {
   "cell_type": "code",
   "execution_count": 12,
   "id": "2e1c9fc0-1e8e-4e02-9dc7-a9d796fe3947",
   "metadata": {},
   "outputs": [],
   "source": [
    "flipcart_page = urlclient.read()"
   ]
  },
  {
   "cell_type": "code",
   "execution_count": 15,
   "id": "7051e647-b8e1-4a97-a8d0-8f8b9975191f",
   "metadata": {},
   "outputs": [],
   "source": [
    "flipcart_html = bs(flipcart_page , 'html.parser')"
   ]
  },
  {
   "cell_type": "code",
   "execution_count": 16,
   "id": "941157fd-b672-49e1-a745-ec2c65a35881",
   "metadata": {},
   "outputs": [
    {
     "data": {
      "text/plain": [
       "'https://www.flipkart.com/dyanora-sigma-108-cm-43-inch-full-hd-led-smart-linux-tv-40-watt-box-speakers-bezel-less-design/p/itmcdbced04b2319?pid=TVSGHZAGFYKGZQ8K&lid=LSTTVSGHZAGFYKGZQ8KUAM8H1&marketplace=FLIPKART&q=tv&store=ckf%2Fczl&srno=s_1_1&otracker=search&otracker1=search&fm=organic&iid=en_xF8tH%2FD493QWU9p74CMkRhAnl%2FZDSt2g4RX8asyXf547oHm6aKW0Vwig1Ae%2FF%2BxpMab4jOA70lzjnpWCWaM8Dw%3D%3D&ppt=sp&ppn=sp&ssid=6vokrwan280000001676982936780&qH=c9a1fdac6e082dd8'"
      ]
     },
     "execution_count": 16,
     "metadata": {},
     "output_type": "execute_result"
    }
   ],
   "source": [
    "\"https://www.flipkart.com\"+\"/dyanora-sigma-108-cm-43-inch-full-hd-led-smart-linux-tv-40-watt-box-speakers-bezel-less-design/p/itmcdbced04b2319?pid=TVSGHZAGFYKGZQ8K&lid=LSTTVSGHZAGFYKGZQ8KUAM8H1&marketplace=FLIPKART&q=tv&store=ckf%2Fczl&srno=s_1_1&otracker=search&otracker1=search&fm=organic&iid=en_xF8tH%2FD493QWU9p74CMkRhAnl%2FZDSt2g4RX8asyXf547oHm6aKW0Vwig1Ae%2FF%2BxpMab4jOA70lzjnpWCWaM8Dw%3D%3D&ppt=sp&ppn=sp&ssid=6vokrwan280000001676982936780&qH=c9a1fdac6e082dd8\""
   ]
  },
  {
   "cell_type": "code",
   "execution_count": 19,
   "id": "4b979d12-4f74-4777-b5b3-c48d254a3f93",
   "metadata": {},
   "outputs": [],
   "source": [
    "bigbox = flipcart_html.find_all(\"div\" ,{\"class\":\"_1AtVbE col-12-12\"} )"
   ]
  },
  {
   "cell_type": "code",
   "execution_count": 20,
   "id": "1c696ac3-ad68-4ebe-a523-e5709d3601cc",
   "metadata": {},
   "outputs": [
    {
     "data": {
      "text/plain": [
       "30"
      ]
     },
     "execution_count": 20,
     "metadata": {},
     "output_type": "execute_result"
    }
   ],
   "source": [
    "len(bigbox)"
   ]
  },
  {
   "cell_type": "code",
   "execution_count": 21,
   "id": "814dac9a-ecab-41be-9ace-a765e893b886",
   "metadata": {},
   "outputs": [],
   "source": [
    "del bigbox[0:3]"
   ]
  },
  {
   "cell_type": "code",
   "execution_count": 27,
   "id": "cbf4c815-94f9-499e-a6e3-b84a8e07ea8a",
   "metadata": {},
   "outputs": [],
   "source": [
    "productlink = \"https://www.flipkart.com\" + bigbox[0].div.div.div.a['href']"
   ]
  },
  {
   "cell_type": "code",
   "execution_count": 26,
   "id": "317673bb-67f5-48e6-81a4-a9d6f77e10c8",
   "metadata": {},
   "outputs": [
    {
     "name": "stdout",
     "output_type": "stream",
     "text": [
      "https://www.flipkart.com/dyanora-109-cm-43-inch-full-hd-led-smart-android-tv-noise-reduction-9-0-google-voice-assistant-powerful-audio-box-speakers/p/itm1f50f4332a1c5?pid=TVSGM2KA9VK6XDV6&lid=LSTTVSGM2KA9VK6XDV66C8HZA&marketplace=FLIPKART&q=tv&store=ckf%2Fczl&srno=s_1_2&otracker=search&fm=organic&iid=en_hrF3fbdnJR5OaXMgGXvQTTrjCinhzHVScDpFIsy0%2Bt5FlHI9KQQ42XSZGbPEo6KA%2FDF%2FDKzGJl9N1oeiVOK3Fg%3D%3D&ppt=None&ppn=None&ssid=qa6pr8f2kg0000001676982855392&qH=c9a1fdac6e082dd8\n",
      "https://www.flipkart.com/oneplus-y1-80-cm-32-inch-hd-ready-led-smart-android-tv-dolby-audio/p/itme650a6bb8cee3?pid=TVSFVWD2ENXYGEJY&lid=LSTTVSFVWD2ENXYGEJYBNWSST&marketplace=FLIPKART&q=tv&store=ckf%2Fczl&srno=s_1_3&otracker=search&fm=organic&iid=c2c409de-1037-4dd3-845e-d215da3f955b.TVSFVWD2ENXYGEJY.SEARCH&ppt=None&ppn=None&ssid=qa6pr8f2kg0000001676982855392&qH=c9a1fdac6e082dd8\n",
      "https://www.flipkart.com/samsung-80-cm-32-inch-hd-ready-led-smart-tizen-tv-2022-model/p/itm3c07ddc2dd25d?pid=TVSGHY2UZA9YHWQN&lid=LSTTVSGHY2UZA9YHWQNNQENTU&marketplace=FLIPKART&q=tv&store=ckf%2Fczl&spotlightTagId=BestsellerId_ckf%2Fczl&srno=s_1_4&otracker=search&fm=organic&iid=c2c409de-1037-4dd3-845e-d215da3f955b.TVSGHY2UZA9YHWQN.SEARCH&ppt=None&ppn=None&ssid=qa6pr8f2kg0000001676982855392&qH=c9a1fdac6e082dd8\n",
      "https://www.flipkart.com/mi-5a-80-cm-32-inch-hd-ready-led-smart-android-tv-dolby-audio-2022-model/p/itm98501ffa297ba?pid=TVSGD5CS2SDUUZGN&lid=LSTTVSGD5CS2SDUUZGNWGZUUA&marketplace=FLIPKART&q=tv&store=ckf%2Fczl&srno=s_1_5&otracker=search&fm=organic&iid=c2c409de-1037-4dd3-845e-d215da3f955b.TVSGD5CS2SDUUZGN.SEARCH&ppt=None&ppn=None&ssid=qa6pr8f2kg0000001676982855392&qH=c9a1fdac6e082dd8\n",
      "https://www.flipkart.com/oneplus-y1-100-cm-40-inch-full-hd-led-smart-android-tv-dolby-audio/p/itmdcbd9784403b2?pid=TVSG25MMGB8NKFD8&lid=LSTTVSG25MMGB8NKFD8BZ88HR&marketplace=FLIPKART&q=tv&store=ckf%2Fczl&srno=s_1_6&otracker=search&fm=organic&iid=c2c409de-1037-4dd3-845e-d215da3f955b.TVSG25MMGB8NKFD8.SEARCH&ppt=None&ppn=None&ssid=qa6pr8f2kg0000001676982855392&qH=c9a1fdac6e082dd8\n",
      "https://www.flipkart.com/samsung-crystal-4k-108-cm-43-inch-ultra-hd-4k-led-smart-tizen-tv/p/itm7dcfb3cc69fbb?pid=TVSG2CG7F2Y9YUJ3&lid=LSTTVSG2CG7F2Y9YUJ39FS3ZI&marketplace=FLIPKART&q=tv&store=ckf%2Fczl&srno=s_1_7&otracker=search&fm=organic&iid=c2c409de-1037-4dd3-845e-d215da3f955b.TVSG2CG7F2Y9YUJ3.SEARCH&ppt=None&ppn=None&ssid=qa6pr8f2kg0000001676982855392&qH=c9a1fdac6e082dd8\n",
      "https://www.flipkart.com/dyanora-sigma-80-cm-32-inch-hd-ready-led-smart-linux-tv-30-watt-box-speakers-bezel-less-design/p/itmb11e0580e0215?pid=TVSGHAEYVKZGGNGP&lid=LSTTVSGHAEYVKZGGNGPDXEJDG&marketplace=FLIPKART&q=tv&store=ckf%2Fczl&srno=s_1_8&otracker=search&fm=organic&iid=en_hrF3fbdnJR5OaXMgGXvQTTrjCinhzHVScDpFIsy0%2Bt6y86yYBNiX%2BWvblJL9rq%2F2wdbJC2GXrREHp7zGtS6vEQ%3D%3D&ppt=None&ppn=None&ssid=qa6pr8f2kg0000001676982855392&qH=c9a1fdac6e082dd8\n",
      "https://www.flipkart.com/oneplus-y1s-80-cm-32-inch-hd-ready-led-smart-android-tv-11-bezel-less-frame/p/itm0a39edd7df236?pid=TVSGAXEVXNG9YBUM&lid=LSTTVSGAXEVXNG9YBUMLGWYAS&marketplace=FLIPKART&q=tv&store=ckf%2Fczl&srno=s_1_9&otracker=search&fm=organic&iid=c2c409de-1037-4dd3-845e-d215da3f955b.TVSGAXEVXNG9YBUM.SEARCH&ppt=None&ppn=None&ssid=qa6pr8f2kg0000001676982855392&qH=c9a1fdac6e082dd8\n",
      "https://www.flipkart.com/thomson-alpha-80-cm-32-inch-hd-ready-led-smart-linux-tv-30-w-sound-output-bezel-less-design/p/itm0e90bcdadb9c9?pid=TVSGEMQV7R4CMTGA&lid=LSTTVSGEMQV7R4CMTGAN8OZ8J&marketplace=FLIPKART&q=tv&store=ckf%2Fczl&srno=s_1_10&otracker=search&fm=organic&iid=c2c409de-1037-4dd3-845e-d215da3f955b.TVSGEMQV7R4CMTGA.SEARCH&ppt=None&ppn=None&ssid=qa6pr8f2kg0000001676982855392&qH=c9a1fdac6e082dd8\n",
      "https://www.flipkart.com/oneplus-y1s-108-cm-43-inch-full-hd-led-smart-android-tv-11-bezel-less-frame/p/itm178846d2e1567?pid=TVSGAXEVSNT3HBQA&lid=LSTTVSGAXEVSNT3HBQAKRCYE0&marketplace=FLIPKART&q=tv&store=ckf%2Fczl&srno=s_1_11&otracker=search&fm=organic&iid=c2c409de-1037-4dd3-845e-d215da3f955b.TVSGAXEVSNT3HBQA.SEARCH&ppt=None&ppn=None&ssid=qa6pr8f2kg0000001676982855392&qH=c9a1fdac6e082dd8\n",
      "https://www.flipkart.com/dyanora-109-cm-43-inch-ultra-hd-4k-led-smart-webos-tv-hdr-10-micro-dimming-noise-reduction-dolby-surround-sound/p/itm2a56b4fff931b?pid=TVSGM2KA8HJCHM8K&lid=LSTTVSGM2KA8HJCHM8KQAGPUZ&marketplace=FLIPKART&q=tv&store=ckf%2Fczl&srno=s_1_12&otracker=search&fm=organic&iid=en_hrF3fbdnJR5OaXMgGXvQTTrjCinhzHVScDpFIsy0%2Bt7XFGVpmfk7oY%2FwUYEW2XY2jy80kkbuZp72%2FBOQELFxHA%3D%3D&ppt=None&ppn=None&ssid=qa6pr8f2kg0000001676982855392&qH=c9a1fdac6e082dd8\n",
      "https://www.flipkart.com/infinix-y1-80-cm-32-inch-hd-ready-led-smart-linux-tv-wall-mount/p/itme5476ca89d1b0?pid=TVSGFGF34GMTB9KF&lid=LSTTVSGFGF34GMTB9KFF9JZPY&marketplace=FLIPKART&q=tv&store=ckf%2Fczl&srno=s_1_13&otracker=search&fm=organic&iid=c2c409de-1037-4dd3-845e-d215da3f955b.TVSGFGF34GMTB9KF.SEARCH&ppt=None&ppn=None&ssid=qa6pr8f2kg0000001676982855392&qH=c9a1fdac6e082dd8\n",
      "https://www.flipkart.com/samsung-crystal-4k-neo-series-108-cm-43-inch-ultra-hd-4k-led-smart-tizen-tv-black-2022-model/p/itma076c4dd16aa4?pid=TVSGEAGP9GXWCHCX&lid=LSTTVSGEAGP9GXWCHCXSVNDV5&marketplace=FLIPKART&q=tv&store=ckf%2Fczl&srno=s_1_14&otracker=search&fm=organic&iid=c2c409de-1037-4dd3-845e-d215da3f955b.TVSGEAGP9GXWCHCX.SEARCH&ppt=None&ppn=None&ssid=qa6pr8f2kg0000001676982855392&qH=c9a1fdac6e082dd8\n",
      "https://www.flipkart.com/lg-80-cm-32-inch-hd-ready-led-smart-webos-tv/p/itm6207e6d122567?pid=TVSFTW4CSRW8PGDQ&lid=LSTTVSFTW4CSRW8PGDQSZQIO6&marketplace=FLIPKART&q=tv&store=ckf%2Fczl&srno=s_1_15&otracker=search&fm=organic&iid=c2c409de-1037-4dd3-845e-d215da3f955b.TVSFTW4CSRW8PGDQ.SEARCH&ppt=None&ppn=None&ssid=qa6pr8f2kg0000001676982855392&qH=c9a1fdac6e082dd8\n",
      "https://www.flipkart.com/dyanora-108-cm-43-inch-full-hd-led-smart-android-based-tv-noise-reduction-9-0-google-voice-assistant-powerful-audio-box-speakers/p/itm84355467866a2?pid=TVSGM2KAZSF3ARR8&lid=LSTTVSGM2KAZSF3ARR8NVNBMO&marketplace=FLIPKART&q=tv&store=ckf%2Fczl&srno=s_1_16&otracker=search&fm=organic&iid=en_hrF3fbdnJR5OaXMgGXvQTTrjCinhzHVScDpFIsy0%2Bt7%2B5k47Kx37vb1hZVe2hUb7M4gwahP74BTI5fOYZDtcDQ%3D%3D&ppt=None&ppn=None&ssid=qa6pr8f2kg0000001676982855392&qH=c9a1fdac6e082dd8\n",
      "https://www.flipkart.com/mi-5a-100-cm-40-inch-full-hd-led-smart-android-tv-dolby-audio-2022-model/p/itm6be60be56f52d?pid=TVSGD5CS4N7NWFZD&lid=LSTTVSGD5CS4N7NWFZDDJBZRI&marketplace=FLIPKART&q=tv&store=ckf%2Fczl&srno=s_1_17&otracker=search&fm=organic&iid=c2c409de-1037-4dd3-845e-d215da3f955b.TVSGD5CS4N7NWFZD.SEARCH&ppt=None&ppn=None&ssid=qa6pr8f2kg0000001676982855392&qH=c9a1fdac6e082dd8\n",
      "https://www.flipkart.com/vu-gloled-108-cm-43-inch-ultra-hd-4k-led-smart-google-tv-dj-subwoofer-84w/p/itm65f2925757d94?pid=TVSGJKC9TUSZ2DHS&lid=LSTTVSGJKC9TUSZ2DHSYRCHBF&marketplace=FLIPKART&q=tv&store=ckf%2Fczl&srno=s_1_18&otracker=search&fm=organic&iid=c2c409de-1037-4dd3-845e-d215da3f955b.TVSGJKC9TUSZ2DHS.SEARCH&ppt=None&ppn=None&ssid=qa6pr8f2kg0000001676982855392&qH=c9a1fdac6e082dd8\n",
      "https://www.flipkart.com/oneplus-y1s-pro-138-cm-55-inch-ultra-hd-4k-led-smart-android-tv/p/itm5db9783099cbb?pid=TVSGJUFY5QMMWSU7&lid=LSTTVSGJUFY5QMMWSU7V52T1B&marketplace=FLIPKART&q=tv&store=ckf%2Fczl&srno=s_1_19&otracker=search&fm=organic&iid=c2c409de-1037-4dd3-845e-d215da3f955b.TVSGJUFY5QMMWSU7.SEARCH&ppt=None&ppn=None&ssid=qa6pr8f2kg0000001676982855392&qH=c9a1fdac6e082dd8\n",
      "https://www.flipkart.com/sens-80-cm-32-inch-hd-ready-led-smart-linux-tv-dolby-audio/p/itm42bfcb2db2495?pid=TVSGHY2BCKSKB5QF&lid=LSTTVSGHY2BCKSKB5QFJ7HUWT&marketplace=FLIPKART&q=tv&store=ckf%2Fczl&srno=s_1_20&otracker=search&fm=organic&iid=c2c409de-1037-4dd3-845e-d215da3f955b.TVSGHY2BCKSKB5QF.SEARCH&ppt=None&ppn=None&ssid=qa6pr8f2kg0000001676982855392&qH=c9a1fdac6e082dd8\n",
      "https://www.flipkart.com/mi-x-series-138-cm-55-inch-ultra-hd-4k-led-smart-android-tv-dolby-vision-30w-audio-2022-model/p/itmd4ff31740dc25?pid=TVSGHEQVHEBXABCQ&lid=LSTTVSGHEQVHEBXABCQXB4RD9&marketplace=FLIPKART&q=tv&store=ckf%2Fczl&srno=s_1_21&otracker=search&fm=organic&iid=c2c409de-1037-4dd3-845e-d215da3f955b.TVSGHEQVHEBXABCQ.SEARCH&ppt=None&ppn=None&ssid=qa6pr8f2kg0000001676982855392&qH=c9a1fdac6e082dd8\n",
      "https://www.flipkart.com/iffalcon-tcl-f53-79-97-cm-32-inch-hd-ready-led-smart-android-tv-11/p/itmf4e9c6c14ccb0?pid=TVSGCYVJPAJMHGUW&lid=LSTTVSGCYVJPAJMHGUWTE92JA&marketplace=FLIPKART&q=tv&store=ckf%2Fczl&srno=s_1_22&otracker=search&fm=organic&iid=c2c409de-1037-4dd3-845e-d215da3f955b.TVSGCYVJPAJMHGUW.SEARCH&ppt=None&ppn=None&ssid=qa6pr8f2kg0000001676982855392&qH=c9a1fdac6e082dd8\n",
      "https://www.flipkart.com/mi-x-series-108-cm-43-inch-ultra-hd-4k-led-smart-android-tv-dolby-vision-30w-audio-2022-model/p/itm39b39b602f81a?pid=TVSGHEQVGZVTSEBT&lid=LSTTVSGHEQVGZVTSEBT6BSNVA&marketplace=FLIPKART&q=tv&store=ckf%2Fczl&srno=s_1_23&otracker=search&fm=organic&iid=c2c409de-1037-4dd3-845e-d215da3f955b.TVSGHEQVGZVTSEBT.SEARCH&ppt=None&ppn=None&ssid=qa6pr8f2kg0000001676982855392&qH=c9a1fdac6e082dd8\n",
      "https://www.flipkart.com/mi-5a-108-cm-43-inch-full-hd-led-smart-android-tv-dolby-audio-2022-model/p/itm2d5967449cb9b?pid=TVSGD5CS3CXNF2DF&lid=LSTTVSGD5CS3CXNF2DFPJ6HSF&marketplace=FLIPKART&q=tv&store=ckf%2Fczl&srno=s_1_24&otracker=search&fm=organic&iid=c2c409de-1037-4dd3-845e-d215da3f955b.TVSGD5CS3CXNF2DF.SEARCH&ppt=None&ppn=None&ssid=qa6pr8f2kg0000001676982855392&qH=c9a1fdac6e082dd8\n"
     ]
    },
    {
     "ename": "AttributeError",
     "evalue": "'NoneType' object has no attribute 'a'",
     "output_type": "error",
     "traceback": [
      "\u001b[0;31m---------------------------------------------------------------------------\u001b[0m",
      "\u001b[0;31mAttributeError\u001b[0m                            Traceback (most recent call last)",
      "Cell \u001b[0;32mIn[26], line 2\u001b[0m\n\u001b[1;32m      1\u001b[0m \u001b[38;5;28;01mfor\u001b[39;00m i \u001b[38;5;129;01min\u001b[39;00m bigbox:\n\u001b[0;32m----> 2\u001b[0m     \u001b[38;5;28mprint\u001b[39m(\u001b[38;5;124m\"\u001b[39m\u001b[38;5;124mhttps://www.flipkart.com\u001b[39m\u001b[38;5;124m\"\u001b[39m \u001b[38;5;241m+\u001b[39m \u001b[43mi\u001b[49m\u001b[38;5;241;43m.\u001b[39;49m\u001b[43mdiv\u001b[49m\u001b[38;5;241;43m.\u001b[39;49m\u001b[43mdiv\u001b[49m\u001b[38;5;241;43m.\u001b[39;49m\u001b[43mdiv\u001b[49m\u001b[38;5;241;43m.\u001b[39;49m\u001b[43ma\u001b[49m[\u001b[38;5;124m'\u001b[39m\u001b[38;5;124mhref\u001b[39m\u001b[38;5;124m'\u001b[39m])\n",
      "\u001b[0;31mAttributeError\u001b[0m: 'NoneType' object has no attribute 'a'"
     ]
    }
   ],
   "source": [
    "for i in bigbox:\n",
    "    print(\"https://www.flipkart.com\" + i.div.div.div.a['href'])\n",
    "    "
   ]
  },
  {
   "cell_type": "code",
   "execution_count": 28,
   "id": "121e467f-4b56-419d-a508-7b1056454983",
   "metadata": {},
   "outputs": [
    {
     "data": {
      "text/plain": [
       "'https://www.flipkart.com/dyanora-109-cm-43-inch-full-hd-led-smart-android-tv-noise-reduction-9-0-google-voice-assistant-powerful-audio-box-speakers/p/itm1f50f4332a1c5?pid=TVSGM2KA9VK6XDV6&lid=LSTTVSGM2KA9VK6XDV66C8HZA&marketplace=FLIPKART&q=tv&store=ckf%2Fczl&srno=s_1_2&otracker=search&fm=organic&iid=en_hrF3fbdnJR5OaXMgGXvQTTrjCinhzHVScDpFIsy0%2Bt5FlHI9KQQ42XSZGbPEo6KA%2FDF%2FDKzGJl9N1oeiVOK3Fg%3D%3D&ppt=None&ppn=None&ssid=qa6pr8f2kg0000001676982855392&qH=c9a1fdac6e082dd8'"
      ]
     },
     "execution_count": 28,
     "metadata": {},
     "output_type": "execute_result"
    }
   ],
   "source": [
    "productlink"
   ]
  },
  {
   "cell_type": "code",
   "execution_count": 30,
   "id": "a40d855a-a389-4f6f-abad-3e15ff7713e4",
   "metadata": {},
   "outputs": [],
   "source": [
    "procuct_req = requests.get(productlink)"
   ]
  },
  {
   "cell_type": "code",
   "execution_count": 34,
   "id": "ae33159d-186e-4f6f-b4cb-e1565f0186bf",
   "metadata": {},
   "outputs": [],
   "source": [
    "product_html = bs(procuct_req.text,'html.parser')"
   ]
  },
  {
   "cell_type": "code",
   "execution_count": 38,
   "id": "32d59cba-4388-4a3f-9baa-498efed56148",
   "metadata": {},
   "outputs": [],
   "source": [
    "coment_box = product_html.find_all(\"div\",{\"class\":\"_16PBlm\"})"
   ]
  },
  {
   "cell_type": "code",
   "execution_count": 39,
   "id": "424914bb-a86a-4f8b-862f-e6faf0ab1019",
   "metadata": {},
   "outputs": [
    {
     "data": {
      "text/plain": [
       "11"
      ]
     },
     "execution_count": 39,
     "metadata": {},
     "output_type": "execute_result"
    }
   ],
   "source": [
    "len(coment_box)"
   ]
  },
  {
   "cell_type": "code",
   "execution_count": 44,
   "id": "adfa3e5f-48c6-46f7-9f38-ac7b2675d949",
   "metadata": {},
   "outputs": [
    {
     "data": {
      "text/plain": [
       "'AMIT SAVITA'"
      ]
     },
     "execution_count": 44,
     "metadata": {},
     "output_type": "execute_result"
    }
   ],
   "source": [
    "coment_box[0].div.div.find_all(\"p\",{\"class\":\"_2sc7ZR _2V5EHH\"})[0].text"
   ]
  },
  {
   "cell_type": "code",
   "execution_count": 45,
   "id": "b8539076-6191-47f1-b3fa-527967bf304a",
   "metadata": {},
   "outputs": [
    {
     "name": "stdout",
     "output_type": "stream",
     "text": [
      "AMIT SAVITA\n",
      "BAPI BANERJEE\n",
      "Ashok kumar S\n",
      "\n",
      "Akram Khan\n",
      "Yatendra Singh\n",
      "sundar\n",
      "Ram Ratan  Singh\n",
      "Ajit  Naik\n",
      "Manne Kishore\n"
     ]
    },
    {
     "ename": "AttributeError",
     "evalue": "'NoneType' object has no attribute 'div'",
     "output_type": "error",
     "traceback": [
      "\u001b[0;31m---------------------------------------------------------------------------\u001b[0m",
      "\u001b[0;31mAttributeError\u001b[0m                            Traceback (most recent call last)",
      "Cell \u001b[0;32mIn[45], line 2\u001b[0m\n\u001b[1;32m      1\u001b[0m \u001b[38;5;28;01mfor\u001b[39;00m i \u001b[38;5;129;01min\u001b[39;00m coment_box:\n\u001b[0;32m----> 2\u001b[0m     \u001b[38;5;28mprint\u001b[39m(\u001b[43mi\u001b[49m\u001b[38;5;241;43m.\u001b[39;49m\u001b[43mdiv\u001b[49m\u001b[38;5;241;43m.\u001b[39;49m\u001b[43mdiv\u001b[49m\u001b[38;5;241m.\u001b[39mfind_all(\u001b[38;5;124m\"\u001b[39m\u001b[38;5;124mp\u001b[39m\u001b[38;5;124m\"\u001b[39m,{\u001b[38;5;124m\"\u001b[39m\u001b[38;5;124mclass\u001b[39m\u001b[38;5;124m\"\u001b[39m:\u001b[38;5;124m\"\u001b[39m\u001b[38;5;124m_2sc7ZR _2V5EHH\u001b[39m\u001b[38;5;124m\"\u001b[39m})[\u001b[38;5;241m0\u001b[39m]\u001b[38;5;241m.\u001b[39mtext)\n",
      "\u001b[0;31mAttributeError\u001b[0m: 'NoneType' object has no attribute 'div'"
     ]
    }
   ],
   "source": [
    "for i in coment_box:\n",
    "    print(i.div.div.find_all(\"p\",{\"class\":\"_2sc7ZR _2V5EHH\"})[0].text)"
   ]
  },
  {
   "cell_type": "code",
   "execution_count": 48,
   "id": "7d42338a-9d11-448a-866f-3d098090fee4",
   "metadata": {},
   "outputs": [
    {
     "name": "stdout",
     "output_type": "stream",
     "text": [
      "4\n",
      "5\n",
      "5\n",
      "5\n",
      "1\n",
      "5\n",
      "5\n",
      "4\n",
      "5\n",
      "4\n"
     ]
    },
    {
     "ename": "AttributeError",
     "evalue": "'NoneType' object has no attribute 'div'",
     "output_type": "error",
     "traceback": [
      "\u001b[0;31m---------------------------------------------------------------------------\u001b[0m",
      "\u001b[0;31mAttributeError\u001b[0m                            Traceback (most recent call last)",
      "Cell \u001b[0;32mIn[48], line 2\u001b[0m\n\u001b[1;32m      1\u001b[0m \u001b[38;5;28;01mfor\u001b[39;00m i \u001b[38;5;129;01min\u001b[39;00m coment_box:\n\u001b[0;32m----> 2\u001b[0m     \u001b[38;5;28mprint\u001b[39m(\u001b[43mi\u001b[49m\u001b[38;5;241;43m.\u001b[39;49m\u001b[43mdiv\u001b[49m\u001b[38;5;241;43m.\u001b[39;49m\u001b[43mdiv\u001b[49m\u001b[38;5;241m.\u001b[39mdiv\u001b[38;5;241m.\u001b[39mdiv\u001b[38;5;241m.\u001b[39mtext)\n",
      "\u001b[0;31mAttributeError\u001b[0m: 'NoneType' object has no attribute 'div'"
     ]
    }
   ],
   "source": [
    "for i in coment_box:\n",
    "    print(i.div.div.div.div.text)"
   ]
  },
  {
   "cell_type": "code",
   "execution_count": 51,
   "id": "d605e39b-1e78-410f-a81f-c398acd9a9ef",
   "metadata": {},
   "outputs": [
    {
     "data": {
      "text/plain": [
       "'Very Good'"
      ]
     },
     "execution_count": 51,
     "metadata": {},
     "output_type": "execute_result"
    }
   ],
   "source": [
    "coment_box[0].div.div.div.p.text\n"
   ]
  },
  {
   "cell_type": "code",
   "execution_count": 52,
   "id": "97181efc-5bd5-4998-ab35-7512f82af7ae",
   "metadata": {},
   "outputs": [
    {
     "name": "stdout",
     "output_type": "stream",
     "text": [
      "Very Good\n",
      "Fabulous!\n",
      "Mind-blowing purchase\n",
      "Awesome\n",
      "Terrible product\n",
      "Fabulous!\n",
      "Worth every penny\n",
      "Pretty good\n",
      "Terrific purchase\n",
      "Delightful\n"
     ]
    },
    {
     "ename": "AttributeError",
     "evalue": "'NoneType' object has no attribute 'div'",
     "output_type": "error",
     "traceback": [
      "\u001b[0;31m---------------------------------------------------------------------------\u001b[0m",
      "\u001b[0;31mAttributeError\u001b[0m                            Traceback (most recent call last)",
      "Cell \u001b[0;32mIn[52], line 2\u001b[0m\n\u001b[1;32m      1\u001b[0m \u001b[38;5;28;01mfor\u001b[39;00m i \u001b[38;5;129;01min\u001b[39;00m coment_box:\n\u001b[0;32m----> 2\u001b[0m     \u001b[38;5;28mprint\u001b[39m(\u001b[43mi\u001b[49m\u001b[38;5;241;43m.\u001b[39;49m\u001b[43mdiv\u001b[49m\u001b[38;5;241;43m.\u001b[39;49m\u001b[43mdiv\u001b[49m\u001b[38;5;241m.\u001b[39mdiv\u001b[38;5;241m.\u001b[39mp\u001b[38;5;241m.\u001b[39mtext )\n",
      "\u001b[0;31mAttributeError\u001b[0m: 'NoneType' object has no attribute 'div'"
     ]
    }
   ],
   "source": [
    "for i in coment_box:\n",
    "    print(i.div.div.div.p.text )"
   ]
  },
  {
   "cell_type": "code",
   "execution_count": 57,
   "id": "7e899af2-c04e-4c9e-952b-c319d77f84fc",
   "metadata": {},
   "outputs": [
    {
     "data": {
      "text/plain": [
       "'You are going to love this Tv because at this price range it is almost a complete package(does not have Bluetooth connectivity) but picture mode option should be improve a little bit (not talking about picture quality because it is very clear) because it is not as good as it should be and so is sound mode option (not talking about sound quality that is so fine)!Overall it is working pretty smooth & fine and you may go for it without any doubt..READ MORE'"
      ]
     },
     "execution_count": 57,
     "metadata": {},
     "output_type": "execute_result"
    }
   ],
   "source": [
    "coment_box[0].div.div.find_all(\"div\",{\"class\":\"\"})[0].text\n"
   ]
  },
  {
   "cell_type": "code",
   "execution_count": 59,
   "id": "737a2b0d-4508-4f1d-922e-51c6297f0718",
   "metadata": {},
   "outputs": [
    {
     "name": "stdout",
     "output_type": "stream",
     "text": [
      "You are going to love this Tv because at this price range it is almost a complete package(does not have Bluetooth connectivity) but picture mode option should be improve a little bit (not talking about picture quality because it is very clear) because it is not as good as it should be and so is sound mode option (not talking about sound quality that is so fine)!Overall it is working pretty smooth & fine and you may go for it without any doubt..READ MORE\n",
      "GoodFinally Dyanora pure Indian television company provides all thing in TVBefore this I was used many television brands including brand leader. 1. Firstly this Dyanora gives very good and clear picture with 400000:1 image contrast ratio it is really good and fits with HD and non HD setop box. In Remote eye safe option. Also their is picture mode like standard, vivid, sport, movie, game, energy saving also user this user help for yours choice. In video mode advance video option are their....READ MORE\n",
      "Awesome and Great Product:We are happy to see Dyanora back on TV production, our new smart Dyanora TV is great and awesome on picture quality, sound, app, connectivity and installation.The price is relatively low comparing to the other brands with all these features.We are really happy with this good product :-)Thanks to Dyanora and Flipkart.READ MORE\n",
      "Under this budget 32 inch smart tv is value for money...picture and sound quality is perfect and the person who came for the installation is also very polite and gentelREAD MORE\n",
      "Very poor customer service. No response on calls, no replies of emails. The remote stopped working within one month of purchase and no replacement provided even after repeated calls and emails. Without the remote the tv is useless. avoid buying such brandsREAD MORE\n",
      "Very very good productREAD MORE\n",
      "Excellent TV with Android, wifi, Miracast, 2 hdmi it's a steak deal and value for moneyREAD MORE\n",
      "Best qualityREAD MORE\n",
      "OkREAD MORE\n",
      "Good product in this rate.READ MORE\n"
     ]
    },
    {
     "ename": "AttributeError",
     "evalue": "'NoneType' object has no attribute 'div'",
     "output_type": "error",
     "traceback": [
      "\u001b[0;31m---------------------------------------------------------------------------\u001b[0m",
      "\u001b[0;31mAttributeError\u001b[0m                            Traceback (most recent call last)",
      "Cell \u001b[0;32mIn[59], line 2\u001b[0m\n\u001b[1;32m      1\u001b[0m \u001b[38;5;28;01mfor\u001b[39;00m i \u001b[38;5;129;01min\u001b[39;00m coment_box:\n\u001b[0;32m----> 2\u001b[0m     \u001b[38;5;28mprint\u001b[39m(\u001b[43mi\u001b[49m\u001b[38;5;241;43m.\u001b[39;49m\u001b[43mdiv\u001b[49m\u001b[38;5;241;43m.\u001b[39;49m\u001b[43mdiv\u001b[49m\u001b[38;5;241m.\u001b[39mfind_all(\u001b[38;5;124m\"\u001b[39m\u001b[38;5;124mdiv\u001b[39m\u001b[38;5;124m\"\u001b[39m,{\u001b[38;5;124m\"\u001b[39m\u001b[38;5;124mclass\u001b[39m\u001b[38;5;124m\"\u001b[39m:\u001b[38;5;124m\"\u001b[39m\u001b[38;5;124m\"\u001b[39m})[\u001b[38;5;241m0\u001b[39m]\u001b[38;5;241m.\u001b[39mtext)\n",
      "\u001b[0;31mAttributeError\u001b[0m: 'NoneType' object has no attribute 'div'"
     ]
    }
   ],
   "source": [
    "for i in coment_box:\n",
    "    print(i.div.div.find_all(\"div\",{\"class\":\"\"})[0].text)"
   ]
  },
  {
   "cell_type": "code",
   "execution_count": null,
   "id": "920ea651-6489-4e32-8900-e3e4b3c05794",
   "metadata": {},
   "outputs": [],
   "source": []
  }
 ],
 "metadata": {
  "kernelspec": {
   "display_name": "Python 3 (ipykernel)",
   "language": "python",
   "name": "python3"
  },
  "language_info": {
   "codemirror_mode": {
    "name": "ipython",
    "version": 3
   },
   "file_extension": ".py",
   "mimetype": "text/x-python",
   "name": "python",
   "nbconvert_exporter": "python",
   "pygments_lexer": "ipython3",
   "version": "3.10.8"
  }
 },
 "nbformat": 4,
 "nbformat_minor": 5
}
